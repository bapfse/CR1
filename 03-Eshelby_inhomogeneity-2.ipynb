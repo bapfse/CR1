{
 "cells": [
  {
   "cell_type": "markdown",
   "metadata": {},
   "source": [
    "# FEniCS simulation of Eshelby's circular inclusion problem"
   ]
  },
  {
   "cell_type": "markdown",
   "metadata": {},
   "source": [
    "The aim of this notebook is to setup a FEniCS simulation of Eshelby's inclusion problem. The framework is linear, plane strain elasticity. We have a matrix in a disk around the origin (radius $R_m$) with an inclusion having the shape of another disk around the origin, with a smaller radius ($R_i < R_m$). The matrix and the inclusion have different elastic modulus ($E$: Young modulus; $\\nu$: Poisson ratio) but are both isotropic and linearly elastic:\n",
    "\n",
    "\\begin{equation}\n",
    "\\sigma_{ij} = \\lambda\\varepsilon_{kk}\\delta_{ij}+2\\mu\\varepsilon_{ij},\n",
    "\\end{equation}\n",
    "\n",
    "where indices $i, j, k$ are restricted to $\\{1, 2\\}$ and $\\lambda$, $\\mu$ are the plane strain Lamé coefficients :\n",
    "\n",
    "\\begin{equation*}\n",
    "\\mu=\\frac{E}{2\\bigl(1+\\nu\\bigr)}\n",
    "\\quad\\text{and}\\quad\n",
    "\\lambda=\\frac{2\\mu\\nu}{1-2\\nu}.\n",
    "\\end{equation*}\n",
    "\n",
    "The variational formulation of the problem is the following:\n",
    "\n",
    "Find $u\\in \\mathcal{C}\\equiv\\{u: H^1(\\Omega), \\; u(x_1,x_2)|_{x_1^2+x_2^2=R_m^2}\n",
    "%\\text{border}\n",
    "=(x_2,x_1)\\}$ such that \n",
    "$\\forall v\\in \\mathcal{C}_0\\equiv \\mathcal{C}$\n",
    "\n",
    "\n",
    "\\begin{equation}\n",
    "\\int_\\Omega \\sigma(\\varepsilon(u)):\\varepsilon(v)\\,\\mathrm{d}x\\,\\mathrm{d}y =\n",
    "-\\int_{\\Omega} b \\cdot v\\,\\mathrm{d} x\\,\\mathrm{d} y,\n",
    "\\end{equation}\n",
    "\n",
    "where the body force $b=0$ and $\\sigma(\\varepsilon)$ is the constitutive equation and $\\varepsilon(u)=\\mathrm{sym} (\\nabla u)$  "
   ]
  },
  {
   "cell_type": "markdown",
   "metadata": {},
   "source": [
    "![shema](inclusion_shear.png)"
   ]
  },
  {
   "cell_type": "code",
   "execution_count": 1,
   "metadata": {},
   "outputs": [
    {
     "name": "stdout",
     "output_type": "stream",
     "text": [
      "/Users/baptistefraisse/opt/anaconda3/envs/fenicsproject/bin/python\n"
     ]
    }
   ],
   "source": [
    "!which python"
   ]
  },
  {
   "cell_type": "code",
   "execution_count": 860,
   "metadata": {},
   "outputs": [],
   "source": [
    "import dolfin\n",
    "from dolfin import *\n",
    "import matplotlib.pyplot as plt\n",
    "import mshr\n",
    "import numpy as np"
   ]
  },
  {
   "cell_type": "markdown",
   "metadata": {},
   "source": [
    "## Parameters of the simulation"
   ]
  },
  {
   "cell_type": "markdown",
   "metadata": {},
   "source": [
    "### Geometric parameters"
   ]
  },
  {
   "cell_type": "code",
   "execution_count": 861,
   "metadata": {},
   "outputs": [],
   "source": [
    "R_in = 1.0 # radius of the inclusion\n",
    "R_out = 3.0 # radius of the outter matrix"
   ]
  },
  {
   "cell_type": "markdown",
   "metadata": {},
   "source": [
    "### Material parameters"
   ]
  },
  {
   "cell_type": "code",
   "execution_count": 862,
   "metadata": {},
   "outputs": [],
   "source": [
    "E_m = 1.0 # Young's modulus for the matrix\n",
    "nu_m = -0.999999 #0.499999999 #0.3 # Poisson ratio for the matrix\n",
    "E_i = 10.0 # Young's modulus for the inclusion\n",
    "nu_i = -0.999999 #0.499999999 #0.3 # Poisson ratio for the inclusion"
   ]
  },
  {
   "cell_type": "markdown",
   "metadata": {},
   "source": [
    "### Parameters of the finite element discretization"
   ]
  },
  {
   "cell_type": "code",
   "execution_count": 863,
   "metadata": {},
   "outputs": [],
   "source": [
    "h = 0.03*R_in # Size of elements\n",
    "degreeFE = 1 # Degree of the finite elements"
   ]
  },
  {
   "cell_type": "code",
   "execution_count": 864,
   "metadata": {},
   "outputs": [],
   "source": [
    "ONE = dolfin.Constant(1.)\n",
    "\n",
    "MATRIX_ID = 1\n",
    "INCLUSION_ID = 2"
   ]
  },
  {
   "cell_type": "markdown",
   "metadata": {},
   "source": [
    "## Generation of the mesh"
   ]
  },
  {
   "cell_type": "markdown",
   "metadata": {},
   "source": [
    "The discretization of the geometric primitives (ellipse, circle) are defined in terms of number of segments. As we want to control the *size* of the elements, we need to compute the perimeter of the entities first."
   ]
  },
  {
   "cell_type": "code",
   "execution_count": 865,
   "metadata": {},
   "outputs": [],
   "source": [
    "L_in = 2*np.pi*R_in # perimeter of the inclusion\n",
    "L_out = 2*np.pi*R_out # perimeter of the matrix\n",
    "\n",
    "N_in = int(L_in/h) # number of mesh points on the perimeter \n",
    "                   # of the inclusion\n",
    "N_out = int(L_out/h) # number of mesh points on the perimeter \n",
    "                     # of the matrix"
   ]
  },
  {
   "cell_type": "code",
   "execution_count": 866,
   "metadata": {},
   "outputs": [
    {
     "data": {
      "text/plain": [
       "(209, 628)"
      ]
     },
     "execution_count": 866,
     "metadata": {},
     "output_type": "execute_result"
    }
   ],
   "source": [
    "N_in,N_out"
   ]
  },
  {
   "cell_type": "code",
   "execution_count": 867,
   "metadata": {},
   "outputs": [],
   "source": [
    "origin = dolfin.Point(0., 0.)\n",
    "\n",
    "Omega_i = mshr.Circle(origin, R_in, segments=N_in)\n",
    "Omega = mshr.Circle(origin, R_out, segments=N_out)"
   ]
  },
  {
   "cell_type": "code",
   "execution_count": 868,
   "metadata": {},
   "outputs": [],
   "source": [
    "Omega.set_subdomain(MATRIX_ID, Omega-Omega_i) # we are putting tags in parts of the mesh\n",
    "Omega.set_subdomain(INCLUSION_ID, Omega_i)    # we will use them later"
   ]
  },
  {
   "cell_type": "code",
   "execution_count": 869,
   "metadata": {},
   "outputs": [],
   "source": [
    "mesh = mshr.generate_mesh(Omega, resolution=2*R_out/h)"
   ]
  },
  {
   "cell_type": "code",
   "execution_count": 870,
   "metadata": {},
   "outputs": [
    {
     "data": {
      "text/plain": [
       "[<matplotlib.lines.Line2D at 0x7fab4ad623d0>,\n",
       " <matplotlib.lines.Line2D at 0x7fab4ad794c0>]"
      ]
     },
     "execution_count": 870,
     "metadata": {},
     "output_type": "execute_result"
    },
    {
     "data": {
      "image/png": "[encoded data removed]",
      "text/plain": [
       "<Figure size 432x288 with 1 Axes>"
      ]
     },
     "metadata": {
      "needs_background": "light"
     },
     "output_type": "display_data"
    }
   ],
   "source": [
    "dolfin.plot(mesh)"
   ]
  },
  {
   "cell_type": "markdown",
   "metadata": {},
   "source": [
    "### Integration over 2D subdomains"
   ]
  },
  {
   "cell_type": "code",
   "execution_count": 871,
   "metadata": {},
   "outputs": [],
   "source": [
    "# we define a function = 1 in the matrix and = 2 in the inclusion\n",
    "subdomain_data_2d = dolfin.MeshFunction(\"size_t\", # the function returns a positive integer\n",
    "                                        mesh, # it is define over the entire mesh\n",
    "                                        dim=2, # the function is defined on the cells (not edges nor vertices)\n",
    "                                        value=mesh.domains() # the function value is in fact\n",
    "                                                             # given by the tag we have put while creating the mesh\n",
    "                                       ) "
   ]
  },
  {
   "cell_type": "code",
   "execution_count": 872,
   "metadata": {},
   "outputs": [
    {
     "data": {
      "text/plain": [
       "<matplotlib.colorbar.Colorbar at 0x7fab4ace9970>"
      ]
     },
     "execution_count": 872,
     "metadata": {},
     "output_type": "execute_result"
    },
    {
     "data": {
      "image/png": "[encoded data removed]",
      "text/plain": [
       "<Figure size 432x288 with 2 Axes>"
      ]
     },
     "metadata": {
      "needs_background": "light"
     },
     "output_type": "display_data"
    }
   ],
   "source": [
    "plt.colorbar(dolfin.plot(subdomain_data_2d)) # we plot this function, note the added color scale on the side"
   ]
  },
  {
   "cell_type": "code",
   "execution_count": 873,
   "metadata": {},
   "outputs": [],
   "source": [
    "# we need to be able to integrate over the matrix only or the inclusion only\n",
    "# so in addition of the classical dolfin measure dx, we define dx(1) and dx(2)\n",
    "dx = dolfin.Measure(\"dx\", domain=mesh, subdomain_data=subdomain_data_2d)"
   ]
  },
  {
   "cell_type": "markdown",
   "metadata": {},
   "source": [
    "Here is how to integrate on a subdomain (we integrate the constant 1, so we obtain the area of each subdomain)."
   ]
  },
  {
   "cell_type": "code",
   "execution_count": 874,
   "metadata": {},
   "outputs": [
    {
     "data": {
      "text/plain": [
       "28.273862167611586"
      ]
     },
     "execution_count": 874,
     "metadata": {},
     "output_type": "execute_result"
    }
   ],
   "source": [
    "# area of the global mesh\n",
    "dolfin.assemble(ONE*dx)"
   ]
  },
  {
   "cell_type": "code",
   "execution_count": 875,
   "metadata": {},
   "outputs": [
    {
     "data": {
      "text/plain": [
       "3.141119452036801"
      ]
     },
     "execution_count": 875,
     "metadata": {},
     "output_type": "execute_result"
    }
   ],
   "source": [
    "# area of the inclusion\n",
    "dolfin.assemble(ONE*dx(INCLUSION_ID))"
   ]
  },
  {
   "cell_type": "code",
   "execution_count": 876,
   "metadata": {},
   "outputs": [
    {
     "data": {
      "text/plain": [
       "25.132742715574683"
      ]
     },
     "execution_count": 876,
     "metadata": {},
     "output_type": "execute_result"
    }
   ],
   "source": [
    "# area of the matrix\n",
    "dolfin.assemble(ONE*dx(MATRIX_ID))"
   ]
  },
  {
   "cell_type": "markdown",
   "metadata": {},
   "source": [
    "# Questions start here !"
   ]
  },
  {
   "cell_type": "markdown",
   "metadata": {},
   "source": [
    "# you will have to fill missing items in the following code"
   ]
  },
  {
   "cell_type": "markdown",
   "metadata": {},
   "source": [
    "## Constitutive law"
   ]
  },
  {
   "cell_type": "markdown",
   "metadata": {},
   "source": [
    "Rather than the Young modulus $E$ and Poisson ratio $\\nu$, we will use the Lamé coefficients $\\lambda$ and $\\mu$ to define the constitutive law.\n",
    "We compute the numerical values of the Lamé coefficients of the inclusion and of the matrix "
   ]
  },
  {
   "cell_type": "markdown",
   "metadata": {},
   "source": [
    "Plane strain elasticity\n",
    "\\begin{equation*}\n",
    "\\mu=\\frac{E}{2\\bigl(1+\\nu\\bigr)}\n",
    "\\quad\\text{and}\\quad\n",
    "\\lambda=\\frac{2\\mu\\nu}{1-2\\nu}.\n",
    "\\end{equation*}"
   ]
  },
  {
   "cell_type": "markdown",
   "metadata": {},
   "source": [
    "# 1) Define Lamé coefficients for both the inclusion and the matrix"
   ]
  },
  {
   "cell_type": "code",
   "execution_count": 877,
   "metadata": {},
   "outputs": [
    {
     "name": "stdout",
     "output_type": "stream",
     "text": [
      "mu_m = 499999.9999856222\n",
      "lamb_m = -333333.222212563\n",
      "mu_i = 4999999.9998562215\n",
      "lamb_i = -3333332.2221256294\n"
     ]
    }
   ],
   "source": [
    "mu_m = E_m/(2*(1+nu_m))\n",
    "lamb_m = 2*mu_m*nu_m/(1-2*nu_m)\n",
    "mu_i = E_i/(2*(1+nu_i))\n",
    "lamb_i = 2*mu_i*nu_i/(1-2*nu_i)\n",
    "print('mu_m =',mu_m)\n",
    "print('lamb_m =',lamb_m)\n",
    "print('mu_i =',mu_i)\n",
    "print('lamb_i =',lamb_i)"
   ]
  },
  {
   "cell_type": "markdown",
   "metadata": {},
   "source": [
    "# 2) Write down Hook's law "
   ]
  },
  {
   "cell_type": "markdown",
   "metadata": {},
   "source": [
    "\\begin{equation}\n",
    "\\sigma_{ij} = \\lambda\\varepsilon_{kk}\\delta_{ij}+2\\mu\\varepsilon_{ij},\n",
    "\\end{equation}"
   ]
  },
  {
   "cell_type": "code",
   "execution_count": 878,
   "metadata": {},
   "outputs": [],
   "source": [
    "# sigma(eps)\n",
    "def stress(eps, lamb, mu):\n",
    "    return(lamb*tr(eps)*Identity(2) + 2.0*mu*eps)"
   ]
  },
  {
   "cell_type": "markdown",
   "metadata": {},
   "source": [
    "# 3) Define the strain-displacement operator\n",
    "$\\varepsilon(u)=\\mathrm{sym} (\\nabla u)$ "
   ]
  },
  {
   "cell_type": "code",
   "execution_count": 879,
   "metadata": {},
   "outputs": [],
   "source": [
    "# eps(u)\n",
    "def strain(d):\n",
    "    return (sym(grad(d)))"
   ]
  },
  {
   "cell_type": "markdown",
   "metadata": {},
   "source": [
    "## 4) Write down the Finite element discretization of the elasticity problem"
   ]
  },
  {
   "cell_type": "code",
   "execution_count": 880,
   "metadata": {},
   "outputs": [],
   "source": [
    "element = dolfin.VectorElement('P', \n",
    "                               cell = dolfin.triangle, \n",
    "                               degree = degreeFE, \n",
    "                               dim = 2)\n",
    "V = dolfin.FunctionSpace(mesh, element)\n",
    "W = dolfin.FunctionSpace(mesh, element)"
   ]
  },
  {
   "cell_type": "code",
   "execution_count": 881,
   "metadata": {},
   "outputs": [],
   "source": [
    "u = dolfin.TrialFunction(V)\n",
    "v = dolfin.TestFunction(V)"
   ]
  },
  {
   "cell_type": "markdown",
   "metadata": {},
   "source": [
    "# 5) Write down the bilinear form"
   ]
  },
  {
   "cell_type": "markdown",
   "metadata": {},
   "source": [
    "\\begin{equation}\n",
    "\\int_\\Omega \\sigma(\\varepsilon(u)):\\varepsilon(v)\\,\\mathrm{d}x\\,\\mathrm{d}y\n",
    "\\end{equation}"
   ]
  },
  {
   "cell_type": "code",
   "execution_count": 882,
   "metadata": {},
   "outputs": [],
   "source": [
    "# The system comprises two subdomains\n",
    "# The total bilinear form is the addition of integrals on each subdomain\n",
    "\n",
    "eps_u = strain(u)\n",
    "eps_v = strain(v)\n",
    "sig_i = stress(eps_u,lamb_i,mu_i)\n",
    "sig_m = stress(eps_u,lamb_m,mu_m)\n",
    "\n",
    "a_i = dolfin.inner(sig_i, eps_v)*dx(INCLUSION_ID)\n",
    "a_m = dolfin.inner(sig_m, eps_v)*dx(MATRIX_ID)\n",
    "\n",
    "bilinear_form = a_i + a_m"
   ]
  },
  {
   "cell_type": "markdown",
   "metadata": {},
   "source": [
    "# 6) Write down the linear form"
   ]
  },
  {
   "cell_type": "markdown",
   "metadata": {},
   "source": [
    "\\begin{equation}\n",
    "\\int_{\\Omega} b \\cdot v\\,\\mathrm{d} x\\,\\mathrm{d} y \\text{ with b=0}\n",
    "\\end{equation}"
   ]
  },
  {
   "cell_type": "code",
   "execution_count": 883,
   "metadata": {},
   "outputs": [],
   "source": [
    "b = dolfin.Constant((0.,0.))\n",
    "\n",
    "linear_form = dolfin.dot(b, v)*dolfin.dx\n",
    "\n",
    "#linear_form = 0.0"
   ]
  },
  {
   "cell_type": "markdown",
   "metadata": {},
   "source": [
    "# 7)Write down boundary conditions"
   ]
  },
  {
   "cell_type": "markdown",
   "metadata": {},
   "source": [
    "$u(x_1,x_2)=(x_2,x_1)$ for $(x_1,x_2)$ such that $x_1^2 + x_2^2 = R_m^2$"
   ]
  },
  {
   "cell_type": "code",
   "execution_count": 884,
   "metadata": {},
   "outputs": [],
   "source": [
    "u_BC = dolfin.Expression((\"x[1]\",\"x[0]\"), degree=2)\n",
    "\n",
    "class contour(SubDomain):\n",
    "    def inside(self, x, on_boundary):\n",
    "        return on_boundary\n",
    "\n",
    "boundary_conditions = dolfin.DirichletBC(V, u_BC, contour())"
   ]
  },
  {
   "cell_type": "markdown",
   "metadata": {},
   "source": [
    "## 8) Compute the Solution to the elasticity problem"
   ]
  },
  {
   "cell_type": "code",
   "execution_count": 885,
   "metadata": {},
   "outputs": [],
   "source": [
    "# we note usol the solution\n",
    "usol = dolfin.Function(V)"
   ]
  },
  {
   "cell_type": "code",
   "execution_count": 886,
   "metadata": {},
   "outputs": [],
   "source": [
    "dolfin.solve(bilinear_form == linear_form, usol, boundary_conditions)"
   ]
  },
  {
   "cell_type": "markdown",
   "metadata": {},
   "source": [
    "# 9) Plot the solution "
   ]
  },
  {
   "cell_type": "code",
   "execution_count": 887,
   "metadata": {},
   "outputs": [
    {
     "data": {
      "text/plain": [
       "<matplotlib.colorbar.Colorbar at 0x7fab4a7ea070>"
      ]
     },
     "execution_count": 887,
     "metadata": {},
     "output_type": "execute_result"
    },
    {
     "data": {
      "image/png": "[encoded data removed]",
      "text/plain": [
       "<Figure size 432x288 with 2 Axes>"
      ]
     },
     "metadata": {
      "needs_background": "light"
     },
     "output_type": "display_data"
    }
   ],
   "source": [
    "#c=dolfin.plot(usol)\n",
    "#c=dolfin.plot(usol[0])\n",
    "#c=dolfin.plot(usol[1])\n",
    "#c=dolfin.plot(sqrt(usol[0]*usol[0]+usol[1]*usol[1]))\n",
    "c=dolfin.plot(0.15*usol, mode=\"displacement\")\n",
    "plt.colorbar(c)"
   ]
  },
  {
   "cell_type": "markdown",
   "metadata": {},
   "source": [
    "# We now consider the strain tensor of the solution"
   ]
  },
  {
   "cell_type": "code",
   "execution_count": 888,
   "metadata": {},
   "outputs": [],
   "source": [
    "eps = dolfin.sym(dolfin.grad(usol))"
   ]
  },
  {
   "cell_type": "markdown",
   "metadata": {},
   "source": [
    "## We want to plot eps_xx, eps_yy, eps_xy using the dolfin.plot() command but eps has no FunctionSpace, so we need to define one and dolfin.project() each of the four tensor components of eps on this new function space and then plot it with the dolfin.plot() command"
   ]
  },
  {
   "cell_type": "markdown",
   "metadata": {},
   "source": [
    "## 10) Compare the strains in the inclusion with the strains in the matrix: are they uniform? What are the dominant components?"
   ]
  },
  {
   "cell_type": "code",
   "execution_count": 889,
   "metadata": {},
   "outputs": [
    {
     "data": {
      "text/plain": [
       "<matplotlib.colorbar.Colorbar at 0x7faadca348e0>"
      ]
     },
     "execution_count": 889,
     "metadata": {},
     "output_type": "execute_result"
    },
    {
     "data": {
      "image/png": "[encoded data removed]",
      "text/plain": [
       "<Figure size 432x288 with 2 Axes>"
      ]
     },
     "metadata": {
      "needs_background": "light"
     },
     "output_type": "display_data"
    }
   ],
   "source": [
    "E = TensorFunctionSpace(mesh, \"DG\", degree=0)\n",
    "strain = dolfin.project(eps,E)\n",
    "#c=dolfin.plot(strain[0,0])\n",
    "#c=dolfin.plot(strain[0,1])\n",
    "#c=dolfin.plot(strain[1,0])\n",
    "c=dolfin.plot(strain[1,1])\n",
    "plt.colorbar(c)"
   ]
  },
  {
   "cell_type": "markdown",
   "metadata": {},
   "source": [
    "# 11)Compute average strains \n",
    "\n",
    "\\begin{equation}\n",
    "<\\sigma_{ij}>=\\frac{\\int_\\Omega \\sigma_{ij}\\,\\mathrm{d}x\\,\\mathrm{d}y }{ \\int_\\Omega 1 \\, \\mathrm{d}x\\,\\mathrm{d}y }\n",
    "\\end{equation}\n",
    "\n",
    "# over the matix subdomain and the inclusion subdomain"
   ]
  },
  {
   "cell_type": "code",
   "execution_count": 890,
   "metadata": {},
   "outputs": [
    {
     "name": "stdout",
     "output_type": "stream",
     "text": [
      "<eps_i> = -5.434125947208846e-08 0.1256745201505537 0.1256745201505537 -3.834261250291441e-08\n",
      "<eps_m> = 6.791633904548687e-09 1.1092742166363174 1.1092742166363174 4.792104353795122e-09\n"
     ]
    }
   ],
   "source": [
    "S_i = TensorFunctionSpace(mesh, \"DG\", degree=0)\n",
    "S_m = TensorFunctionSpace(mesh, \"DG\", degree=0)\n",
    "\n",
    "epsilon_i = dolfin.project(eps,S_i)\n",
    "epsilon_m = dolfin.project(eps,S_m)\n",
    "\n",
    "av_strain_i_11 = (dolfin.assemble(epsilon_i[0,0]*dx(INCLUSION_ID))) / (dolfin.assemble(ONE*dx(INCLUSION_ID)))\n",
    "av_strain_i_12 = (dolfin.assemble(epsilon_i[0,1]*dx(INCLUSION_ID))) / (dolfin.assemble(ONE*dx(INCLUSION_ID)))\n",
    "av_strain_i_21 = (dolfin.assemble(epsilon_i[1,0]*dx(INCLUSION_ID))) / (dolfin.assemble(ONE*dx(INCLUSION_ID)))\n",
    "av_strain_i_22 = (dolfin.assemble(epsilon_i[1,1]*dx(INCLUSION_ID))) / (dolfin.assemble(ONE*dx(INCLUSION_ID)))\n",
    "\n",
    "av_strain_m_11 = (dolfin.assemble(epsilon_m[0,0]*dx(MATRIX_ID))) / (dolfin.assemble(ONE*dx(MATRIX_ID)))\n",
    "av_strain_m_12 = (dolfin.assemble(epsilon_m[1,0]*dx(MATRIX_ID))) / (dolfin.assemble(ONE*dx(MATRIX_ID)))\n",
    "av_strain_m_21 = (dolfin.assemble(epsilon_m[0,1]*dx(MATRIX_ID))) / (dolfin.assemble(ONE*dx(MATRIX_ID)))\n",
    "av_strain_m_22 = (dolfin.assemble(epsilon_m[1,1]*dx(MATRIX_ID))) / (dolfin.assemble(ONE*dx(MATRIX_ID)))\n",
    "\n",
    "print(\"<eps_i> =\", av_strain_i_11, av_strain_i_12, av_strain_i_21, av_strain_i_22)\n",
    "print(\"<eps_m> =\", av_strain_m_11, av_strain_m_12, av_strain_m_21, av_strain_m_22)"
   ]
  },
  {
   "cell_type": "markdown",
   "metadata": {},
   "source": [
    "# 12)Show that the shear strain in the inclusion is 'almost' uniform. Quantify the term 'almost' by computing\n",
    "\n",
    "\\begin{equation}\n",
    "deviation = \\frac{\\int_\\Omega Abs(\\sigma_{ij} - <\\sigma_{ij}>) \\,\\mathrm{d}x\\,\\mathrm{d}y }{ <\\sigma_{ij}> }\n",
    "\\end{equation}"
   ]
  },
  {
   "cell_type": "code",
   "execution_count": 891,
   "metadata": {},
   "outputs": [
    {
     "name": "stdout",
     "output_type": "stream",
     "text": [
      "Calling FFC just-in-time (JIT) compiler, this may take some time.\n",
      "Calling FFC just-in-time (JIT) compiler, this may take some time.\n",
      "Calling FFC just-in-time (JIT) compiler, this may take some time.\n",
      "Calling FFC just-in-time (JIT) compiler, this may take some time.\n",
      "-34218.14321663229 0.0039019373311592834 0.0039019373311592834 -48490.448472373384\n"
     ]
    }
   ],
   "source": [
    "deviation_11 = (dolfin.assemble(abs(epsilon_i[0,0]-av_strain_i_11)*dx(INCLUSION_ID))) / av_strain_i_11\n",
    "deviation_12 = (dolfin.assemble(abs(epsilon_i[1,0]-av_strain_i_12)*dx(INCLUSION_ID))) / av_strain_i_12\n",
    "deviation_21 = (dolfin.assemble(abs(epsilon_i[0,1]-av_strain_i_21)*dx(INCLUSION_ID))) / av_strain_i_21\n",
    "deviation_22 = (dolfin.assemble(abs(epsilon_i[1,1]-av_strain_i_22)*dx(INCLUSION_ID))) / av_strain_i_22\n",
    "\n",
    "print(deviation_11, deviation_12, deviation_21, deviation_22)"
   ]
  },
  {
   "cell_type": "markdown",
   "metadata": {},
   "source": [
    "# 13)Does $<\\sigma_{xy}>$ follow the formula of the Hill tensor?"
   ]
  },
  {
   "cell_type": "code",
   "execution_count": null,
   "metadata": {},
   "outputs": [],
   "source": []
  },
  {
   "cell_type": "markdown",
   "metadata": {},
   "source": [
    "# Comparison with exact solution"
   ]
  },
  {
   "cell_type": "markdown",
   "metadata": {},
   "source": [
    "The closed-form expression of the solution is derived in the companion notebook *Circular inhomogeneity — Shear*. This solution is implemented in the module `eshelby`, that can be imported. It builds the exact displacement field as a `dolfin.Expression`, which will allow easy comparison with the approximate solution found here."
   ]
  },
  {
   "cell_type": "code",
   "execution_count": 892,
   "metadata": {},
   "outputs": [],
   "source": [
    "class EshelbyDisk:\n",
    "    def __init__(self, gamma, khi, nu_i, nu_m):\n",
    "        self.gamma = gamma\n",
    "        self.khi = khi\n",
    "        self.nu_i = nu_i\n",
    "        self.nu_m = nu_m\n",
    "\n",
    "    def create_lhs(self):\n",
    "        return np.array(\n",
    "            [\n",
    "                [2, 2 * self.gamma ** 2, 2 * self.gamma ** 4, 2 * self.gamma ** 6, 0, 0],\n",
    "                [\n",
    "                    2 * self.nu_m * (self.nu_m - 1),\n",
    "                    -(self.gamma ** 2) * self.nu_m * (2 * self.nu_m - 1),\n",
    "                    -2 * self.gamma ** 4 * self.nu_m * (self.nu_m - 1),\n",
    "                    self.gamma ** 6 * (self.nu_m - 1) * (2 * self.nu_m - 3),\n",
    "                    0,\n",
    "                    0,\n",
    "                ],\n",
    "                [1, 1, 1, 1, -1, -1],\n",
    "                [\n",
    "                    2 * self.nu_i * self.nu_m * (self.nu_m - 1),\n",
    "                    -self.nu_i * self.nu_m * (2 * self.nu_m - 1),\n",
    "                    -2 * self.nu_i * self.nu_m * (self.nu_m - 1),\n",
    "                    self.nu_i * (self.nu_m - 1) * (2 * self.nu_m - 3),\n",
    "                    2 * self.nu_i * self.nu_m * (self.nu_m - 1),\n",
    "                    -self.nu_m * (2 * self.nu_i - 3) * (self.nu_m - 1),\n",
    "                ],\n",
    "                [\n",
    "                    3 * (self.nu_i + 1) * (self.nu_m - 1),\n",
    "                    -self.nu_i - 1,\n",
    "                    -(self.nu_i + 1) * (self.nu_m - 1),\n",
    "                    0,\n",
    "                    self.khi * (self.nu_m - 1) * (self.nu_m + 1),\n",
    "                    0,\n",
    "                ],\n",
    "                [\n",
    "                    -6 * self.nu_i * self.nu_m * (self.nu_i + 1) * (self.nu_m - 1),\n",
    "                    self.nu_i * self.nu_m * (self.nu_i + 1),\n",
    "                    -2 * self.nu_i * self.nu_m * (self.nu_i + 1) * (self.nu_m - 1),\n",
    "                    -3 * self.nu_i * (self.nu_i + 1) * (self.nu_m - 1),\n",
    "                    2 * self.khi * self.nu_i * self.nu_m * (self.nu_m - 1) * (self.nu_m + 1),\n",
    "                    3 * self.khi * self.nu_m * (self.nu_m - 1) * (self.nu_m + 1),\n",
    "                ],\n",
    "            ]\n",
    "        )\n",
    "\n",
    "    def create_rhs(self):\n",
    "        return np.array(\n",
    "            [2 * self.gamma ** 4, -2 * self.gamma ** 4 * self.nu_m * (self.nu_m - 1), 0, 0, 0, 0]\n",
    "        )\n",
    "\n",
    "    def compute_integration_constants(self):\n",
    "        return np.linalg.solve(self.create_lhs(), self.create_rhs())\n",
    "\n",
    "    def to_expression(self, a=1.0, degree=4):\n",
    "        A_m3, A_m1, A_1, A_3, C_1, C_3 = self.compute_integration_constants()\n",
    "        rho = dolfin.Expression(\"sqrt(pow(x[0], 2)+pow(x[1], 2))/a\", degree=degree, a=a)\n",
    "        theta = dolfin.Expression(\"atan2(x[1], x[0])\", degree=degree)\n",
    "\n",
    "        params = {\n",
    "            \"A_m3\": A_m3,\n",
    "            \"A_m1\": A_m1,\n",
    "            \"A_1\": A_1,\n",
    "            \"A_3\": A_3,\n",
    "            \"B_m3\": -A_m3,\n",
    "            \"B_m1\": (1 - 2 * self.nu_m) / 2 / (1 - self.nu_m) * A_m1,\n",
    "            \"B_1\": A_1,\n",
    "            \"B_3\": (3 - 2 * self.nu_m) / 2 / self.nu_m * A_3,\n",
    "            \"C_1\": C_1,\n",
    "            \"C_3\": C_3,\n",
    "            \"D_1\": C_1,\n",
    "            \"D_3\": (3 - 2 * self.nu_i) / 2 / self.nu_i * C_3,\n",
    "            \"rho\": rho,\n",
    "            \"theta\": theta,\n",
    "        }\n",
    "\n",
    "        F = dolfin.Expression(\n",
    "            \"rho > 1 ? A_m3*pow(rho, -3)+A_m1/rho+A_1*rho+A_3*pow(rho, 3): C_1*rho+C_3*pow(rho, 3)\",\n",
    "            degree=degree,\n",
    "            **params\n",
    "        )\n",
    "        G = dolfin.Expression(\n",
    "            \"rho > 1 ? B_m3*pow(rho, -3)+B_m1/rho+B_1*rho+B_3*pow(rho, 3): D_1*rho+D_3*pow(rho, 3)\",\n",
    "            degree=degree,\n",
    "            **params\n",
    "        )\n",
    "        u_r = dolfin.Expression(\"F*sin(2*theta)\", degree=degree, F=F, rho=rho, theta=theta)\n",
    "        u_theta = dolfin.Expression(\"G*cos(2*theta)\", degree=degree, G=G, rho=rho, theta=theta)\n",
    "        u = dolfin.Expression(\n",
    "            (\"u_r*cos(theta)-u_theta*sin(theta)\", \"u_r*sin(theta)+u_theta*cos(theta)\"),\n",
    "            degree=degree,\n",
    "            theta=theta,\n",
    "            u_r=u_r,\n",
    "            u_theta=u_theta,\n",
    "        )\n",
    "        return u"
   ]
  },
  {
   "cell_type": "code",
   "execution_count": 893,
   "metadata": {},
   "outputs": [],
   "source": [
    "solution = EshelbyDisk(R_out/R_in, E_i/E_m, nu_i, nu_m)"
   ]
  },
  {
   "cell_type": "code",
   "execution_count": 894,
   "metadata": {},
   "outputs": [],
   "source": [
    "u_ref = solution.to_expression(R_in)"
   ]
  },
  {
   "cell_type": "code",
   "execution_count": 895,
   "metadata": {},
   "outputs": [
    {
     "data": {
      "text/plain": [
       "<matplotlib.collections.PolyCollection at 0x7faadc6c6e20>"
      ]
     },
     "execution_count": 895,
     "metadata": {},
     "output_type": "execute_result"
    },
    {
     "data": {
      "image/png": "[encoded data removed]",
      "text/plain": [
       "<Figure size 432x288 with 1 Axes>"
      ]
     },
     "metadata": {
      "needs_background": "light"
     },
     "output_type": "display_data"
    }
   ],
   "source": [
    "# Execute this to obtain the plot of the analytical solution\n",
    "V_ref = dolfin.VectorFunctionSpace(mesh, 'P', 2)\n",
    "u_ref_num = dolfin.interpolate(u_ref, V_ref)\n",
    "dolfin.plot(0.15*u_ref_num, mode=\"displacement\")"
   ]
  },
  {
   "cell_type": "markdown",
   "metadata": {},
   "source": [
    "# 14)Compute the L2 error norm of the numerical solution"
   ]
  },
  {
   "cell_type": "code",
   "execution_count": 896,
   "metadata": {},
   "outputs": [
    {
     "name": "stdout",
     "output_type": "stream",
     "text": [
      "2.726218128847437e-10\n"
     ]
    }
   ],
   "source": [
    "erreur_L2 = assemble(dot(usol,usol)*dx) - assemble(2*dot(usol,u_ref_num)*dx) + assemble(dot(u_ref_num,u_ref_num)*dx)\n",
    "print(erreur_L2/assemble(dot(u_ref,u_ref)*dx))\n",
    "\n",
    "# à calculer pour une fraction h/R_in afin de tracer le graphique de convergence"
   ]
  },
  {
   "cell_type": "markdown",
   "metadata": {},
   "source": [
    "# 15) Plot $u_y(x,0)$ for both the analytical and numerical solution"
   ]
  },
  {
   "cell_type": "code",
   "execution_count": 822,
   "metadata": {},
   "outputs": [
    {
     "data": {
      "image/png": "[encoded data removed]",
      "text/plain": [
       "<Figure size 432x288 with 1 Axes>"
      ]
     },
     "metadata": {
      "needs_background": "light"
     },
     "output_type": "display_data"
    }
   ],
   "source": [
    "liste_x = np.linspace(-R_out, R_out, num=100)\n",
    "\n",
    "u_formule = 0.0*liste_x\n",
    "u_formule_simu = 0.0*liste_x\n",
    "\n",
    "for k, x_k in enumerate(liste_x):\n",
    "    u_formule[k] = u_ref([x_k,0.0])[1]\n",
    "    u_formule_simu[k] = usol([x_k,0.0])[1]\n",
    "\n",
    "plt.xlabel('x position')\n",
    "plt.ylabel('y displacement at y=0')\n",
    "plt.title('u_y(x,y=0) for both analytical and numerical solution')\n",
    "plt.plot(liste_x, u_formule, label='analytical solution', color='red')\n",
    "plt.plot(liste_x, u_formule_simu, '.', label='numerical solution', color='blue')\n",
    "plt.legend()\n",
    "plt.show()"
   ]
  },
  {
   "cell_type": "markdown",
   "metadata": {},
   "source": [
    "# 16) Put a legend, axis labels, and title to this plot. Plot each curve with a different color"
   ]
  },
  {
   "cell_type": "code",
   "execution_count": null,
   "metadata": {},
   "outputs": [],
   "source": [
    "# done at question 15"
   ]
  }
 ],
 "metadata": {
  "kernelspec": {
   "display_name": "Python 3",
   "language": "python",
   "name": "python3"
  },
  "language_info": {
   "codemirror_mode": {
    "name": "ipython",
    "version": 3
   },
   "file_extension": ".py",
   "mimetype": "text/x-python",
   "name": "python",
   "nbconvert_exporter": "python",
   "pygments_lexer": "ipython3",
   "version": "3.8.5"
  }
 },
 "nbformat": 4,
 "nbformat_minor": 4
}
